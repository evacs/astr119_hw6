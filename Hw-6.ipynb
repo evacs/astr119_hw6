{
 "cells": [
  {
   "cell_type": "markdown",
   "metadata": {},
   "source": [
    "# Cash-Karp Method"
   ]
  },
  {
   "cell_type": "code",
   "execution_count": null,
   "metadata": {},
   "outputs": [],
   "source": [
    "%matplotlib inline\n",
    "import numpy as np\n",
    "import matplotlib.pyplot as plt\n"
   ]
  },
  {
   "cell_type": "markdown",
   "metadata": {},
   "source": [
    "## Define set of ODEs to integrate"
   ]
  },
  {
   "cell_type": "code",
   "execution_count": null,
   "metadata": {},
   "outputs": [],
   "source": [
    "def dfdx(x,f):\n",
    "    \n",
    "    \n",
    "    y = f[0]\n",
    "    \n",
    "    #dy/dx = z      \n",
    "    z = f[1]\n",
    "    \n",
    "    dydx = np.zeros_like(f)\n",
    "    dydx[0] = z\n",
    "    dydx[1] = -1*y\n",
    "    \n",
    "    return dydx"
   ]
  },
  {
   "cell_type": "markdown",
   "metadata": {},
   "source": [
    "## Define the core of the Cash-Karp method"
   ]
  },
  {
   "cell_type": "code",
   "execution_count": null,
   "metadata": {},
   "outputs": [],
   "source": [
    "def ck_core_mv(x_i, y_i, nv, h, f):\n",
    "    \n",
    "    #making arrays to hold my constants\n",
    "    ci = np.array([0,0, 1./5., 3./10., 3./5., 1, 7./8.])\n",
    "    \n",
    "    #aij as a matrix\n",
    "    aji = np.array([[0,0,0,0,0,0,0],\n",
    "                    [0,0, 1./5., 3./40., 3./10., -11./54., 1631./55296.],\n",
    "                   [0,0,0, 9./40., -9./10., 5./2., 175./512.],\n",
    "                   [0,0,0,0, 6./5., -70./27., 575./13824.],\n",
    "                   [0,0,0,0,0, 35./27., 44275./110592.],\n",
    "                   [0,0,0,0,0,0,253./4096.]])\n",
    "\n",
    "    aij = aji.transpose()\n",
    "    \n",
    "    bi = np.array([0, 37./378.,0,250./621.,125./594.,0,512./1771.])\n",
    "    bistr = np.array([0,2825/27648.,0,18575./48384.,13525./55296.,277./14336.,1./4.])\n",
    "\n",
    "    #define k array\n",
    "    ni = 7\n",
    "    ki = np.zeros((ni,nv))\n",
    "    \n",
    "    #compute ki\n",
    "    for i in range(1,ni):\n",
    "        # xn+1\n",
    "        xn = x_i + ci[i]*h\n",
    "        \n",
    "        #temp y\n",
    "        yn = y_i.copy()\n",
    "        for j in range(1,i):\n",
    "            yn += aij[i,j]*ki[j,:]\n",
    "            \n",
    "        ki[i,:] = h*f(xn,yn)\n",
    "    ynp1 = y_i.copy()\n",
    "    ynp1s= y_i.copy()\n",
    "    \n",
    "    for i in range(1,ni):\n",
    "        ynp1 += bi[i]*ki[i,:]\n",
    "        ynp1s += bistr[i]*ki[i,:]\n",
    "        \n",
    "    #get error\n",
    "    Delta = np.fabs(ynp1-ynp1s)\n",
    "    \n",
    "    return ynp1, Delta\n",
    "    \n",
    "    "
   ]
  },
  {
   "cell_type": "markdown",
   "metadata": {},
   "source": [
    "## Define the adaptive step driver"
   ]
  },
  {
   "cell_type": "code",
   "execution_count": null,
   "metadata": {},
   "outputs": [],
   "source": [
    "def ck_mv_ad(dfdx,x_i,y_i,nv,h, tol):\n",
    "    \n",
    "    #how big of step, find that the error is not too large\n",
    "    SAFETY = 0.9\n",
    "    H_NEW_FAC = 2.0 #if step is too small, fix for tol and ___ to match? max factor in which step will change between steps\n",
    "    \n",
    "    imax = 1000\n",
    "    \n",
    "    i = 0\n",
    "    \n",
    "    #create an error array, to keep track of errors\n",
    "    Delta = np.full(nv, 2*tol) #initialize every element \n",
    "    \n",
    "    h_step = h\n",
    "    \n",
    "    #adjust step to get more accurate answer\n",
    "    #__.max menas max in array (method)\n",
    "    while(Delta.max()/tol > 1.0):\n",
    "        \n",
    "        #value at end of step\n",
    "        y_ipo, Delta = ck_core_mv(x_i,y_i,nv,h_step,dfdx)\n",
    "        \n",
    "        \n",
    "        if(Delta.max()/tol > 1.0):\n",
    "            \n",
    "            h_step *= SAFETY * (Delta.max()/tol)**(-0.25)\n",
    "            \n",
    "        #check integration\n",
    "        if(i>=imax):\n",
    "            print(\"Too many iterations in ck_mv_ad\")\n",
    "            raise StopIteration(\"Ending after i =\", i)\n",
    "            \n",
    "        #iterate\n",
    "        i += 1\n",
    "        \n",
    "    h_new = np.fmin(h_step * (Delta.max()/tol)**(-0.9), h_step * H_NEW_FAC)\n",
    "    \n",
    "    return y_ipo, h_new, h_step                      \n",
    "                "
   ]
  },
  {
   "cell_type": "markdown",
   "metadata": {},
   "source": [
    "## Define a wrapper for CK, set up the integral"
   ]
  },
  {
   "cell_type": "code",
   "execution_count": null,
   "metadata": {},
   "outputs": [],
   "source": [
    "def ck_mv(dfdx,a,b,y_a,tol,v=False):\n",
    "    \n",
    "    #y_a are the boundary conditions at a\n",
    "    # a and b are lower and upper boundaries\n",
    "    \n",
    "    #starting steps\n",
    "    xi = a\n",
    "    yi = y_a.copy()\n",
    "    \n",
    "    h = 1.0e-4 * (b-a)\n",
    "    \n",
    "    #max iterations\n",
    "    imax = 1000\n",
    "    \n",
    "    i = 0\n",
    "    \n",
    "    #variables are the length \n",
    "    nv = len(y_a)\n",
    "    \n",
    "    #set initial conditions\n",
    "    x = np.full(1,a)\n",
    "    y = np.full( (1, nv), y_a)\n",
    "    #makes an array, adding elements to the array\n",
    "    #1000 elements at 5 = (1000, 5)\n",
    "    \n",
    "    #loop until we reach b\n",
    "    flag = True\n",
    "    while(flag):\n",
    "        \n",
    "        y_ipo, h_new, h_step = ck_mv_ad(dfdx,xi,yi,nv,h,tol)\n",
    "         \n",
    "        #new step\n",
    "        h = h_new\n",
    "        \n",
    "        #prevent an overshoot\n",
    "        if(xi + h_step>b):\n",
    "            \n",
    "            #step will end at b\n",
    "            h = b-xi\n",
    "            \n",
    "            #recompute\n",
    "            y_ipo, h_new, h_step, = ck_mv_ad(dfdx,xi,yi,nv,h,tol)\n",
    "            \n",
    "            flag = False\n",
    "            \n",
    "            \n",
    "        #update values\n",
    "        xi += h_step\n",
    "        yi = y_ipo.copy()\n",
    "        \n",
    "        #add step\n",
    "        x = np.append(x,xi)\n",
    "        y_ipo = np.zeros((len(x),nv))\n",
    "        y_ipo[0:len(x)-1,:] = y[:]\n",
    "        y_ipo[-1,:] = yi[:]\n",
    "        del y\n",
    "        y = y_ipo\n",
    "        \n",
    "        #prevent too many iterations\n",
    "        if(i>=imax):\n",
    "            print(\"Maximum iterations reached.\")\n",
    "            raise StopIteration(\"Iteration number = \",i)\n",
    "            \n",
    "        #iterate\n",
    "        i += 1\n",
    "        \n",
    "        #output some information\n",
    "        if(v):\n",
    "            s = \"i = %3d/tx = %9.8f\\ty = %9.8f\\th = %9.8f\\tb = %9.8f\" % (i,xi,yi[0],h_step,b)\n",
    "            print(s)\n",
    "            \n",
    "        if(xi==b):\n",
    "            flag = False\n",
    "            \n",
    "    return x,y \n",
    "        "
   ]
  },
  {
   "cell_type": "markdown",
   "metadata": {},
   "source": [
    "## Peform the Integration"
   ]
  },
  {
   "cell_type": "code",
   "execution_count": null,
   "metadata": {},
   "outputs": [],
   "source": [
    "a = 0.0\n",
    "b = 2.0*np.pi\n",
    "y0 = np.zeros(2)\n",
    "y0[0] = 0.0\n",
    "y0[1] = 1.0\n",
    "nv = 2\n",
    "\n",
    "tolerance = 1.0e-6\n",
    "x,y = ck_mv(dfdx,a,b,y0,tolerance,v = True)\n",
    "\n",
    "plt.scatter(x,y[:,0], color= 'blue', label = 'y(x)')\n",
    "plt.scatter(x,y[:,1], color= 'green', label = 'z(x)')\n",
    "plt.plot(x,np.sin(x), label='sin(x)')\n",
    "plt.plot(x,np.cos(x), label='cos(x)')\n",
    "plt.xlim([0,2*np.pi])\n",
    "plt.ylim([-1.2,1.2])\n",
    "plt.legend(frameon=False)\n"
   ]
  },
  {
   "cell_type": "markdown",
   "metadata": {},
   "source": [
    "## Plot the error"
   ]
  },
  {
   "cell_type": "code",
   "execution_count": null,
   "metadata": {},
   "outputs": [],
   "source": [
    "plt.plot(x,y[:,0]-np.sin(x), label=\"y(x) Error\")\n",
    "plt.plot(x,y[:,1]-np.cos(x), label=\"z(x) Error\")\n",
    "plt.legend()"
   ]
  },
  {
   "cell_type": "code",
   "execution_count": null,
   "metadata": {},
   "outputs": [],
   "source": []
  }
 ],
 "metadata": {
  "kernelspec": {
   "display_name": "Python 3",
   "language": "python",
   "name": "python3"
  },
  "language_info": {
   "codemirror_mode": {
    "name": "ipython",
    "version": 3
   },
   "file_extension": ".py",
   "mimetype": "text/x-python",
   "name": "python",
   "nbconvert_exporter": "python",
   "pygments_lexer": "ipython3",
   "version": "3.8.5"
  }
 },
 "nbformat": 4,
 "nbformat_minor": 4
}
